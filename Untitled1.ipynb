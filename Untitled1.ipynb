{
  "nbformat": 4,
  "nbformat_minor": 0,
  "metadata": {
    "colab": {
      "name": "Untitled1.ipynb",
      "provenance": [],
      "collapsed_sections": []
    },
    "kernelspec": {
      "name": "python3",
      "display_name": "Python 3"
    },
    "language_info": {
      "name": "python"
    }
  },
  "cells": [
    {
      "cell_type": "code",
      "execution_count": 1,
      "metadata": {
        "colab": {
          "base_uri": "https://localhost:8080/"
        },
        "id": "vUvD2P5AuwJf",
        "outputId": "f5694c7c-5c5f-4c88-9c65-fc9153758e83"
      },
      "outputs": [
        {
          "output_type": "stream",
          "name": "stdout",
          "text": [
            "Drive already mounted at /content/drive; to attempt to forcibly remount, call drive.mount(\"/content/drive\", force_remount=True).\n"
          ]
        }
      ],
      "source": [
        "import pandas as pd\n",
        "import numpy as np\n",
        "import torch\n",
        "from torch import nn\n",
        "from torch.utils.data import dataloader\n",
        "from torchvision import datasets\n",
        "from torchvision.transforms import ToTensor\n",
        "from sklearn.model_selection import train_test_split\n",
        "import warnings\n",
        "warnings.simplefilter('ignore')\n",
        "from google.colab import drive\n",
        "drive.mount('/content/drive')"
      ]
    },
    {
      "cell_type": "code",
      "source": [
        "path=\"/content/drive/MyDrive/data set/clintox.csv\"\n",
        "path=\"/content/drive/MyDrive/data set/clintox_global_cdf_rdkit.csv\"\n",
        "clintox_dataset=pd.read_csv(\"/content/drive/MyDrive/data set/clintox.csv\")\n",
        "clintox_features=pd.read_csv(\"/content/drive/MyDrive/data set/clintox_global_cdf_rdkit.csv\")"
      ],
      "metadata": {
        "id": "CZPuL8MAvF3J"
      },
      "execution_count": 2,
      "outputs": []
    },
    {
      "cell_type": "code",
      "source": [
        "clintox_features=clintox_features.loc[:,clintox_features.apply(pd.Series.nunique) !=1]\n",
        "clintox_dataset=clintox_dataset.iloc[clintox_features.dropna().index]\n",
        "clintox_dataset=clintox_dataset.reset_index()\n",
        "clintox_features=clintox_features.dropna()\n",
        "clintox_features=clintox_features.reset_index()\n",
        "index_array=[]\n",
        "for i in np.arange(1,3):\n",
        "  index_array.append(clintox_dataset.iloc[:,i+1].dropna().index)"
      ],
      "metadata": {
        "id": "eh4pvEtsvF5-"
      },
      "execution_count": 3,
      "outputs": []
    },
    {
      "cell_type": "code",
      "source": [
        "def label_ith(i):\n",
        "  return pd.DataFrame(data=clintox_dataset.iloc[index_array[i]].iloc[:,i+2])\n",
        "def feature_ith(i):\n",
        "  return clintox_features.iloc[index_array[i]].drop('index',axis=1)"
      ],
      "metadata": {
        "id": "0Lj74sI22CeX"
      },
      "execution_count": 4,
      "outputs": []
    },
    {
      "cell_type": "code",
      "source": [
        "## train_test_split with sklearn library.\n",
        "X_training_data=[]\n",
        "X_test=[]\n",
        "y_training_data=[]\n",
        "y_test=[]\n",
        "for i in np.arange(0,2):\n",
        "  X_training_data_tmp,X_test_tmp,y_training_data_tmp,y_test_tmp=train_test_split(feature_ith(i),\n",
        "                                                  label_ith(i),\n",
        "                                                  stratify=label_ith(i),\n",
        "                                                  test_size=0.10,\n",
        "                                                  random_state=1234)\n",
        "  X_training_data.append(X_training_data_tmp)\n",
        "  X_test.append(X_test_tmp)\n",
        "  y_training_data.append(y_training_data_tmp)\n",
        "  y_test.append(y_test_tmp)"
      ],
      "metadata": {
        "id": "tmWYkV0EvF8R"
      },
      "execution_count": 5,
      "outputs": []
    },
    {
      "cell_type": "code",
      "source": [
        "X_training_data_tmp.shape,X_test_tmp.shape"
      ],
      "metadata": {
        "colab": {
          "base_uri": "https://localhost:8080/"
        },
        "id": "HAyQ9-Wy9hld",
        "outputId": "c6289887-f512-40dc-e7cd-62f044e9d2a6"
      },
      "execution_count": 6,
      "outputs": [
        {
          "output_type": "execute_result",
          "data": {
            "text/plain": [
              "((1314, 186), (147, 186))"
            ]
          },
          "metadata": {},
          "execution_count": 6
        }
      ]
    },
    {
      "cell_type": "code",
      "source": [
        "## principal components \n",
        "from sklearn.decomposition import PCA\n",
        "X_training_data_pca=[]\n",
        "X_test_pca=[]\n",
        "for i in np.arange(0,2):\n",
        "  pca=PCA(n_components=67)\n",
        "  principalComponents=pca.fit_transform(X_training_data[i])\n",
        "  X_training_data_PCA_tmp=pd.DataFrame(data=principalComponents)\n",
        "  X_training_data_pca.append(X_training_data_PCA_tmp)\n",
        "  X_test_pca_tmp=pd.DataFrame(data=pca.transform(X_test[i]))\n",
        "  X_test_pca.append(X_test_pca_tmp)\n",
        "  print('PCA with 67 principal components retains',\n",
        "        np.sum(pca.explained_variance_ratio_)*100,'% of data VAR.(it is related for',i,'th label)')"
      ],
      "metadata": {
        "colab": {
          "base_uri": "https://localhost:8080/"
        },
        "id": "lP41PBxY-ZUD",
        "outputId": "123bd38c-14f2-40d4-9fd5-00d70e378f19"
      },
      "execution_count": 14,
      "outputs": [
        {
          "output_type": "stream",
          "name": "stdout",
          "text": [
            "PCA with 67 principal components retains 95.02683616120125 % of data VAR.(it is related for 0 th label)\n",
            "PCA with 67 principal components retains 95.048109652589 % of data VAR.(it is related for 1 th label)\n"
          ]
        }
      ]
    },
    {
      "cell_type": "code",
      "source": [
        ""
      ],
      "metadata": {
        "id": "Gq08HAV6Ired"
      },
      "execution_count": null,
      "outputs": []
    }
  ]
}